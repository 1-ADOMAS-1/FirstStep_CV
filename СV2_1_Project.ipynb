{
 "cells": [
  {
   "cell_type": "code",
   "execution_count": 5,
   "id": "b211d91b",
   "metadata": {},
   "outputs": [],
   "source": [
    "import cv2\n",
    "import numpy as np"
   ]
  },
  {
   "cell_type": "code",
   "execution_count": 6,
   "id": "85e6e423",
   "metadata": {},
   "outputs": [],
   "source": [
    "def convert_grey(frame: np.ndarray) -> np.ndarray:\n",
    "    gray_frame = cv2.cvtColor(frame, cv2.COLOR_BGR2GRAY)\n",
    "    return gray_frame\n",
    "\n",
    "\n",
    "def display_green_color(frame: np.ndarray, kernel_: tuple) -> np.ndarray:\n",
    "    hsv_frame = cv2.cvtColor(frame, cv2.COLOR_BGR2HSV)\n",
    "    \n",
    "    lower_green = np.array([40, 40, 40])\n",
    "    upper_green = np.array([85, 255, 255])\n",
    "\n",
    "    green_mask = cv2.inRange(hsv_frame, lower_green, upper_green)\n",
    "\n",
    "    kernel = np.ones(kernel_, np.uint8)\n",
    "    green_mask = cv2.morphologyEx(green_mask, cv2.MORPH_OPEN, kernel)\n",
    "\n",
    "    comb_frame = np.vstack((frame, np.repeat(green_mask[:, :, np.newaxis], 3, axis=2)))\n",
    "    return comb_frame\n"
   ]
  },
  {
   "cell_type": "code",
   "execution_count": 7,
   "id": "00796df1",
   "metadata": {},
   "outputs": [],
   "source": [
    "def reSize_frame(frame, scale):\n",
    "    return cv2.resize(frame, (-1, -1), fx=scale, fy=scale)"
   ]
  },
  {
   "cell_type": "code",
   "execution_count": 8,
   "id": "7394d96c",
   "metadata": {},
   "outputs": [
    {
     "name": "stdout",
     "output_type": "stream",
     "text": [
      "Requirement already satisfied: patched-yolo-infer in c:\\users\\alex\\my_ml_project\\venv\\lib\\site-packages (1.3.8)\n",
      "Requirement already satisfied: numpy<2.0 in c:\\users\\alex\\my_ml_project\\venv\\lib\\site-packages (from patched-yolo-infer) (1.26.4)\n",
      "Requirement already satisfied: tqdm in c:\\users\\alex\\my_ml_project\\venv\\lib\\site-packages (from patched-yolo-infer) (4.67.1)\n",
      "Requirement already satisfied: opencv-python in c:\\users\\alex\\my_ml_project\\venv\\lib\\site-packages (from patched-yolo-infer) (4.11.0.86)\n",
      "Requirement already satisfied: matplotlib in c:\\users\\alex\\my_ml_project\\venv\\lib\\site-packages (from patched-yolo-infer) (3.10.3)\n",
      "Requirement already satisfied: ultralytics in c:\\users\\alex\\my_ml_project\\venv\\lib\\site-packages (from patched-yolo-infer) (8.3.170)\n",
      "Requirement already satisfied: contourpy>=1.0.1 in c:\\users\\alex\\my_ml_project\\venv\\lib\\site-packages (from matplotlib->patched-yolo-infer) (1.3.3)\n",
      "Requirement already satisfied: cycler>=0.10 in c:\\users\\alex\\my_ml_project\\venv\\lib\\site-packages (from matplotlib->patched-yolo-infer) (0.12.1)\n",
      "Requirement already satisfied: fonttools>=4.22.0 in c:\\users\\alex\\my_ml_project\\venv\\lib\\site-packages (from matplotlib->patched-yolo-infer) (4.59.0)\n",
      "Requirement already satisfied: kiwisolver>=1.3.1 in c:\\users\\alex\\my_ml_project\\venv\\lib\\site-packages (from matplotlib->patched-yolo-infer) (1.4.8)\n",
      "Requirement already satisfied: packaging>=20.0 in c:\\users\\alex\\my_ml_project\\venv\\lib\\site-packages (from matplotlib->patched-yolo-infer) (25.0)\n",
      "Requirement already satisfied: pillow>=8 in c:\\users\\alex\\my_ml_project\\venv\\lib\\site-packages (from matplotlib->patched-yolo-infer) (11.0.0)\n",
      "Requirement already satisfied: pyparsing>=2.3.1 in c:\\users\\alex\\my_ml_project\\venv\\lib\\site-packages (from matplotlib->patched-yolo-infer) (3.2.3)\n",
      "Requirement already satisfied: python-dateutil>=2.7 in c:\\users\\alex\\my_ml_project\\venv\\lib\\site-packages (from matplotlib->patched-yolo-infer) (2.9.0.post0)\n",
      "Requirement already satisfied: colorama in c:\\users\\alex\\my_ml_project\\venv\\lib\\site-packages (from tqdm->patched-yolo-infer) (0.4.6)\n",
      "Requirement already satisfied: pyyaml>=5.3.1 in c:\\users\\alex\\my_ml_project\\venv\\lib\\site-packages (from ultralytics->patched-yolo-infer) (6.0.2)\n",
      "Requirement already satisfied: requests>=2.23.0 in c:\\users\\alex\\my_ml_project\\venv\\lib\\site-packages (from ultralytics->patched-yolo-infer) (2.32.4)\n",
      "Requirement already satisfied: scipy>=1.4.1 in c:\\users\\alex\\my_ml_project\\venv\\lib\\site-packages (from ultralytics->patched-yolo-infer) (1.16.1)\n",
      "Requirement already satisfied: torch>=1.8.0 in c:\\users\\alex\\my_ml_project\\venv\\lib\\site-packages (from ultralytics->patched-yolo-infer) (2.7.1+cpu)\n",
      "Requirement already satisfied: torchvision>=0.9.0 in c:\\users\\alex\\my_ml_project\\venv\\lib\\site-packages (from ultralytics->patched-yolo-infer) (0.22.1+cpu)\n",
      "Requirement already satisfied: psutil in c:\\users\\alex\\my_ml_project\\venv\\lib\\site-packages (from ultralytics->patched-yolo-infer) (7.0.0)\n",
      "Requirement already satisfied: py-cpuinfo in c:\\users\\alex\\my_ml_project\\venv\\lib\\site-packages (from ultralytics->patched-yolo-infer) (9.0.0)\n",
      "Requirement already satisfied: pandas>=1.1.4 in c:\\users\\alex\\my_ml_project\\venv\\lib\\site-packages (from ultralytics->patched-yolo-infer) (2.3.1)\n",
      "Requirement already satisfied: ultralytics-thop>=2.0.0 in c:\\users\\alex\\my_ml_project\\venv\\lib\\site-packages (from ultralytics->patched-yolo-infer) (2.0.14)\n",
      "Requirement already satisfied: pytz>=2020.1 in c:\\users\\alex\\my_ml_project\\venv\\lib\\site-packages (from pandas>=1.1.4->ultralytics->patched-yolo-infer) (2025.2)\n",
      "Requirement already satisfied: tzdata>=2022.7 in c:\\users\\alex\\my_ml_project\\venv\\lib\\site-packages (from pandas>=1.1.4->ultralytics->patched-yolo-infer) (2025.2)\n",
      "Requirement already satisfied: six>=1.5 in c:\\users\\alex\\my_ml_project\\venv\\lib\\site-packages (from python-dateutil>=2.7->matplotlib->patched-yolo-infer) (1.17.0)\n",
      "Requirement already satisfied: charset_normalizer<4,>=2 in c:\\users\\alex\\my_ml_project\\venv\\lib\\site-packages (from requests>=2.23.0->ultralytics->patched-yolo-infer) (3.4.2)\n",
      "Requirement already satisfied: idna<4,>=2.5 in c:\\users\\alex\\my_ml_project\\venv\\lib\\site-packages (from requests>=2.23.0->ultralytics->patched-yolo-infer) (3.10)\n",
      "Requirement already satisfied: urllib3<3,>=1.21.1 in c:\\users\\alex\\my_ml_project\\venv\\lib\\site-packages (from requests>=2.23.0->ultralytics->patched-yolo-infer) (2.5.0)\n",
      "Requirement already satisfied: certifi>=2017.4.17 in c:\\users\\alex\\my_ml_project\\venv\\lib\\site-packages (from requests>=2.23.0->ultralytics->patched-yolo-infer) (2025.7.14)\n",
      "Requirement already satisfied: filelock in c:\\users\\alex\\my_ml_project\\venv\\lib\\site-packages (from torch>=1.8.0->ultralytics->patched-yolo-infer) (3.13.1)\n",
      "Requirement already satisfied: typing-extensions>=4.10.0 in c:\\users\\alex\\my_ml_project\\venv\\lib\\site-packages (from torch>=1.8.0->ultralytics->patched-yolo-infer) (4.12.2)\n",
      "Requirement already satisfied: sympy>=1.13.3 in c:\\users\\alex\\my_ml_project\\venv\\lib\\site-packages (from torch>=1.8.0->ultralytics->patched-yolo-infer) (1.13.3)\n",
      "Requirement already satisfied: networkx in c:\\users\\alex\\my_ml_project\\venv\\lib\\site-packages (from torch>=1.8.0->ultralytics->patched-yolo-infer) (3.3)\n",
      "Requirement already satisfied: jinja2 in c:\\users\\alex\\my_ml_project\\venv\\lib\\site-packages (from torch>=1.8.0->ultralytics->patched-yolo-infer) (3.1.4)\n",
      "Requirement already satisfied: fsspec in c:\\users\\alex\\my_ml_project\\venv\\lib\\site-packages (from torch>=1.8.0->ultralytics->patched-yolo-infer) (2024.6.1)\n",
      "Requirement already satisfied: setuptools in c:\\users\\alex\\my_ml_project\\venv\\lib\\site-packages (from torch>=1.8.0->ultralytics->patched-yolo-infer) (70.2.0)\n",
      "Requirement already satisfied: mpmath<1.4,>=1.1.0 in c:\\users\\alex\\my_ml_project\\venv\\lib\\site-packages (from sympy>=1.13.3->torch>=1.8.0->ultralytics->patched-yolo-infer) (1.3.0)\n",
      "Requirement already satisfied: MarkupSafe>=2.0 in c:\\users\\alex\\my_ml_project\\venv\\lib\\site-packages (from jinja2->torch>=1.8.0->ultralytics->patched-yolo-infer) (2.1.5)\n"
     ]
    },
    {
     "name": "stderr",
     "output_type": "stream",
     "text": [
      "\n",
      "[notice] A new release of pip is available: 25.0.1 -> 25.1.1\n",
      "[notice] To update, run: python.exe -m pip install --upgrade pip\n"
     ]
    }
   ],
   "source": [
    "!pip install patched-yolo-infer"
   ]
  },
  {
   "cell_type": "code",
   "execution_count": 9,
   "id": "b02ff9f6",
   "metadata": {},
   "outputs": [],
   "source": [
    "from ultralytics import YOLO\n",
    "from patched_yolo_infer import (visualize_results_usual_yolo_inference)"
   ]
  },
  {
   "cell_type": "code",
   "execution_count": 10,
   "id": "03cfe3e6",
   "metadata": {},
   "outputs": [
    {
     "name": "stdout",
     "output_type": "stream",
     "text": [
      "Downloading https://github.com/ultralytics/assets/releases/download/v8.3.0/yolov8m-seg.pt to 'yolov8m-seg.pt'...\n"
     ]
    },
    {
     "name": "stderr",
     "output_type": "stream",
     "text": [
      "100%|██████████| 52.4M/52.4M [00:54<00:00, 1.01MB/s]\n"
     ]
    }
   ],
   "source": [
    "imgsz = 640\n",
    "conf = 0.4\n",
    "iou = 0.7\n",
    "\n",
    "model = YOLO(\"yolov8m-seg.pt\")"
   ]
  },
  {
   "cell_type": "code",
   "execution_count": 11,
   "id": "537529e3",
   "metadata": {},
   "outputs": [
    {
     "name": "stdout",
     "output_type": "stream",
     "text": [
      "Downloading https://github.com/ultralytics/assets/releases/download/v8.3.0/yolov8m.pt to 'yolov8m.pt'...\n"
     ]
    },
    {
     "name": "stderr",
     "output_type": "stream",
     "text": [
      "100%|██████████| 49.7M/49.7M [00:54<00:00, 956kB/s] \n"
     ]
    }
   ],
   "source": [
    "model2 = YOLO(\"yolov8m.pt\")"
   ]
  },
  {
   "cell_type": "code",
   "execution_count": 12,
   "id": "1cc06660",
   "metadata": {},
   "outputs": [],
   "source": [
    "cap = cv2.VideoCapture(0)\n",
    "\n",
    "if not cap.isOpened():\n",
    "    print(\"Ошибка! Не удается открыть камеру.\")\n",
    "else:\n",
    "    cap.set(cv2.CAP_PROP_FRAME_WIDTH, 1280)\n",
    "    cap.set(cv2.CAP_PROP_FRAME_HEIGHT, 720)\n",
    "\n",
    "    while True:\n",
    "        # Читаем кадр с камеры\n",
    "        ret, frame = cap.read()\n",
    "        \n",
    "        if not ret:\n",
    "            break\n",
    "\n",
    "        #frame = convert_grey(frame)\n",
    "        #frame = display_green_color(frame, (10, 10))\n",
    "\n",
    "        '''\n",
    "        frame = visualize_results_usual_yolo_inference(\n",
    "            frame, \n",
    "            model, \n",
    "            imgsz, \n",
    "            conf, \n",
    "            iou,\n",
    "            segment=True, \n",
    "            delta_colors=1, \n",
    "            thickness=6,\n",
    "            font_scale=1.5, \n",
    "            show_boxes=False, \n",
    "            fill_mask=True,\n",
    "            alpha=0.35,\n",
    "            show_confidences=False,\n",
    "            return_image_array=True\n",
    "        )\n",
    "        '''\n",
    "        \n",
    "        frame = visualize_results_usual_yolo_inference(\n",
    "            frame, \n",
    "            model2, \n",
    "            imgsz, \n",
    "            conf, \n",
    "            iou,\n",
    "            segment=False, \n",
    "            delta_colors=1, \n",
    "            thickness=6,\n",
    "            font_scale=1.5, \n",
    "            show_boxes=True, \n",
    "            fill_mask=True,\n",
    "            alpha=0.35,\n",
    "            show_confidences=False,\n",
    "            return_image_array=True\n",
    "        )\n",
    "\n",
    "\n",
    "        frame = reSize_frame(frame, 0.5)\n",
    "            \n",
    "        # Отображаем изображение\n",
    "        cv2.imshow('Webcam', frame)\n",
    "    \n",
    "        # Выходим по нажатию клавиши 'q'\n",
    "        if cv2.waitKey(1) & 0xFF == ord('q'):\n",
    "            break\n",
    "\n",
    "# Освобождаем ресурсы и закрываем окна\n",
    "cap.release()\n",
    "cv2.destroyAllWindows()"
   ]
  }
 ],
 "metadata": {
  "kernelspec": {
   "display_name": "venv",
   "language": "python",
   "name": "python3"
  },
  "language_info": {
   "codemirror_mode": {
    "name": "ipython",
    "version": 3
   },
   "file_extension": ".py",
   "mimetype": "text/x-python",
   "name": "python",
   "nbconvert_exporter": "python",
   "pygments_lexer": "ipython3",
   "version": "3.12.10"
  }
 },
 "nbformat": 4,
 "nbformat_minor": 5
}
